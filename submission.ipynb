{
 "cells": [
  {
   "cell_type": "code",
   "execution_count": 2,
   "id": "18b40ab0-febb-42a3-84f0-ddddfe7aebca",
   "metadata": {},
   "outputs": [],
   "source": [
    "import pandas as pd\n",
    "import numpy as np\n"
   ]
  },
  {
   "cell_type": "code",
   "execution_count": 3,
   "id": "b7e3b623-8829-4cd8-875c-4b6cbe5e3fb5",
   "metadata": {},
   "outputs": [],
   "source": [
    "df1=pd.read_csv('Train_Data.csv')\n",
    "df=df1.copy()"
   ]
  },
  {
   "cell_type": "code",
   "execution_count": 4,
   "id": "34bcac35-6919-4e89-8628-95bf60b46cda",
   "metadata": {},
   "outputs": [
    {
     "data": {
      "text/html": [
       "<div>\n",
       "<style scoped>\n",
       "    .dataframe tbody tr th:only-of-type {\n",
       "        vertical-align: middle;\n",
       "    }\n",
       "\n",
       "    .dataframe tbody tr th {\n",
       "        vertical-align: top;\n",
       "    }\n",
       "\n",
       "    .dataframe thead th {\n",
       "        text-align: right;\n",
       "    }\n",
       "</style>\n",
       "<table border=\"1\" class=\"dataframe\">\n",
       "  <thead>\n",
       "    <tr style=\"text-align: right;\">\n",
       "      <th></th>\n",
       "      <th>SEQN</th>\n",
       "      <th>RIAGENDR</th>\n",
       "      <th>PAQ605</th>\n",
       "      <th>BMXBMI</th>\n",
       "      <th>LBXGLU</th>\n",
       "      <th>DIQ010</th>\n",
       "      <th>LBXGLT</th>\n",
       "      <th>LBXIN</th>\n",
       "      <th>age_group</th>\n",
       "    </tr>\n",
       "  </thead>\n",
       "  <tbody>\n",
       "    <tr>\n",
       "      <th>0</th>\n",
       "      <td>73564.0</td>\n",
       "      <td>2.0</td>\n",
       "      <td>2.0</td>\n",
       "      <td>35.7</td>\n",
       "      <td>110.0</td>\n",
       "      <td>2.0</td>\n",
       "      <td>150.0</td>\n",
       "      <td>14.91</td>\n",
       "      <td>Adult</td>\n",
       "    </tr>\n",
       "    <tr>\n",
       "      <th>1</th>\n",
       "      <td>73568.0</td>\n",
       "      <td>2.0</td>\n",
       "      <td>2.0</td>\n",
       "      <td>20.3</td>\n",
       "      <td>89.0</td>\n",
       "      <td>2.0</td>\n",
       "      <td>80.0</td>\n",
       "      <td>3.85</td>\n",
       "      <td>Adult</td>\n",
       "    </tr>\n",
       "    <tr>\n",
       "      <th>2</th>\n",
       "      <td>73576.0</td>\n",
       "      <td>1.0</td>\n",
       "      <td>2.0</td>\n",
       "      <td>23.2</td>\n",
       "      <td>89.0</td>\n",
       "      <td>2.0</td>\n",
       "      <td>68.0</td>\n",
       "      <td>6.14</td>\n",
       "      <td>Adult</td>\n",
       "    </tr>\n",
       "    <tr>\n",
       "      <th>3</th>\n",
       "      <td>73577.0</td>\n",
       "      <td>1.0</td>\n",
       "      <td>2.0</td>\n",
       "      <td>28.9</td>\n",
       "      <td>104.0</td>\n",
       "      <td>NaN</td>\n",
       "      <td>84.0</td>\n",
       "      <td>16.15</td>\n",
       "      <td>Adult</td>\n",
       "    </tr>\n",
       "    <tr>\n",
       "      <th>4</th>\n",
       "      <td>73580.0</td>\n",
       "      <td>2.0</td>\n",
       "      <td>1.0</td>\n",
       "      <td>35.9</td>\n",
       "      <td>103.0</td>\n",
       "      <td>2.0</td>\n",
       "      <td>81.0</td>\n",
       "      <td>10.92</td>\n",
       "      <td>Adult</td>\n",
       "    </tr>\n",
       "  </tbody>\n",
       "</table>\n",
       "</div>"
      ],
      "text/plain": [
       "      SEQN  RIAGENDR  PAQ605  BMXBMI  LBXGLU  DIQ010  LBXGLT  LBXIN age_group\n",
       "0  73564.0       2.0     2.0    35.7   110.0     2.0   150.0  14.91     Adult\n",
       "1  73568.0       2.0     2.0    20.3    89.0     2.0    80.0   3.85     Adult\n",
       "2  73576.0       1.0     2.0    23.2    89.0     2.0    68.0   6.14     Adult\n",
       "3  73577.0       1.0     2.0    28.9   104.0     NaN    84.0  16.15     Adult\n",
       "4  73580.0       2.0     1.0    35.9   103.0     2.0    81.0  10.92     Adult"
      ]
     },
     "execution_count": 4,
     "metadata": {},
     "output_type": "execute_result"
    }
   ],
   "source": [
    "df.head()"
   ]
  },
  {
   "cell_type": "code",
   "execution_count": 5,
   "id": "8cc8bb4a-9be4-4e05-b72a-424ae451c8c3",
   "metadata": {},
   "outputs": [
    {
     "data": {
      "text/plain": [
       "(1966, 9)"
      ]
     },
     "execution_count": 5,
     "metadata": {},
     "output_type": "execute_result"
    }
   ],
   "source": [
    "df.shape"
   ]
  },
  {
   "cell_type": "code",
   "execution_count": 6,
   "id": "b5c22b1c-3ae7-4247-b184-c15d8d7e7ba7",
   "metadata": {},
   "outputs": [
    {
     "data": {
      "text/plain": [
       "SEQN         12\n",
       "RIAGENDR     18\n",
       "PAQ605       13\n",
       "BMXBMI       18\n",
       "LBXGLU       13\n",
       "DIQ010       18\n",
       "LBXGLT       11\n",
       "LBXIN         9\n",
       "age_group    14\n",
       "dtype: int64"
      ]
     },
     "execution_count": 6,
     "metadata": {},
     "output_type": "execute_result"
    }
   ],
   "source": [
    "df.isnull().sum()"
   ]
  },
  {
   "cell_type": "code",
   "execution_count": 7,
   "id": "85b77d8c-4368-46a1-b256-04c2f53cca19",
   "metadata": {},
   "outputs": [],
   "source": [
    "df['RIAGENDR'] = df['RIAGENDR'].fillna(df['RIAGENDR'].median())\n",
    "df.fillna(df.mean(numeric_only=True), inplace=True)"
   ]
  },
  {
   "cell_type": "code",
   "execution_count": 8,
   "id": "b2ce1730-c4e5-4658-81ea-34c113f447d6",
   "metadata": {},
   "outputs": [
    {
     "data": {
      "text/plain": [
       "SEQN          0\n",
       "RIAGENDR      0\n",
       "PAQ605        0\n",
       "BMXBMI        0\n",
       "LBXGLU        0\n",
       "DIQ010        0\n",
       "LBXGLT        0\n",
       "LBXIN         0\n",
       "age_group    14\n",
       "dtype: int64"
      ]
     },
     "execution_count": 8,
     "metadata": {},
     "output_type": "execute_result"
    }
   ],
   "source": [
    "df.isnull().sum()"
   ]
  },
  {
   "cell_type": "code",
   "execution_count": 9,
   "id": "5ffb20d4-7692-45e0-a100-30130c9cf853",
   "metadata": {},
   "outputs": [
    {
     "data": {
      "text/html": [
       "<div>\n",
       "<style scoped>\n",
       "    .dataframe tbody tr th:only-of-type {\n",
       "        vertical-align: middle;\n",
       "    }\n",
       "\n",
       "    .dataframe tbody tr th {\n",
       "        vertical-align: top;\n",
       "    }\n",
       "\n",
       "    .dataframe thead th {\n",
       "        text-align: right;\n",
       "    }\n",
       "</style>\n",
       "<table border=\"1\" class=\"dataframe\">\n",
       "  <thead>\n",
       "    <tr style=\"text-align: right;\">\n",
       "      <th></th>\n",
       "      <th>SEQN</th>\n",
       "      <th>RIAGENDR</th>\n",
       "      <th>PAQ605</th>\n",
       "      <th>BMXBMI</th>\n",
       "      <th>LBXGLU</th>\n",
       "      <th>DIQ010</th>\n",
       "      <th>LBXGLT</th>\n",
       "      <th>LBXIN</th>\n",
       "      <th>age_group</th>\n",
       "    </tr>\n",
       "  </thead>\n",
       "  <tbody>\n",
       "    <tr>\n",
       "      <th>0</th>\n",
       "      <td>73564.0</td>\n",
       "      <td>2.0</td>\n",
       "      <td>2.0</td>\n",
       "      <td>35.7</td>\n",
       "      <td>110.0</td>\n",
       "      <td>2.000000</td>\n",
       "      <td>150.0</td>\n",
       "      <td>14.91</td>\n",
       "      <td>Adult</td>\n",
       "    </tr>\n",
       "    <tr>\n",
       "      <th>1</th>\n",
       "      <td>73568.0</td>\n",
       "      <td>2.0</td>\n",
       "      <td>2.0</td>\n",
       "      <td>20.3</td>\n",
       "      <td>89.0</td>\n",
       "      <td>2.000000</td>\n",
       "      <td>80.0</td>\n",
       "      <td>3.85</td>\n",
       "      <td>Adult</td>\n",
       "    </tr>\n",
       "    <tr>\n",
       "      <th>2</th>\n",
       "      <td>73576.0</td>\n",
       "      <td>1.0</td>\n",
       "      <td>2.0</td>\n",
       "      <td>23.2</td>\n",
       "      <td>89.0</td>\n",
       "      <td>2.000000</td>\n",
       "      <td>68.0</td>\n",
       "      <td>6.14</td>\n",
       "      <td>Adult</td>\n",
       "    </tr>\n",
       "    <tr>\n",
       "      <th>3</th>\n",
       "      <td>73577.0</td>\n",
       "      <td>1.0</td>\n",
       "      <td>2.0</td>\n",
       "      <td>28.9</td>\n",
       "      <td>104.0</td>\n",
       "      <td>2.015914</td>\n",
       "      <td>84.0</td>\n",
       "      <td>16.15</td>\n",
       "      <td>Adult</td>\n",
       "    </tr>\n",
       "    <tr>\n",
       "      <th>4</th>\n",
       "      <td>73580.0</td>\n",
       "      <td>2.0</td>\n",
       "      <td>1.0</td>\n",
       "      <td>35.9</td>\n",
       "      <td>103.0</td>\n",
       "      <td>2.000000</td>\n",
       "      <td>81.0</td>\n",
       "      <td>10.92</td>\n",
       "      <td>Adult</td>\n",
       "    </tr>\n",
       "  </tbody>\n",
       "</table>\n",
       "</div>"
      ],
      "text/plain": [
       "      SEQN  RIAGENDR  PAQ605  BMXBMI  LBXGLU    DIQ010  LBXGLT  LBXIN  \\\n",
       "0  73564.0       2.0     2.0    35.7   110.0  2.000000   150.0  14.91   \n",
       "1  73568.0       2.0     2.0    20.3    89.0  2.000000    80.0   3.85   \n",
       "2  73576.0       1.0     2.0    23.2    89.0  2.000000    68.0   6.14   \n",
       "3  73577.0       1.0     2.0    28.9   104.0  2.015914    84.0  16.15   \n",
       "4  73580.0       2.0     1.0    35.9   103.0  2.000000    81.0  10.92   \n",
       "\n",
       "  age_group  \n",
       "0     Adult  \n",
       "1     Adult  \n",
       "2     Adult  \n",
       "3     Adult  \n",
       "4     Adult  "
      ]
     },
     "execution_count": 9,
     "metadata": {},
     "output_type": "execute_result"
    }
   ],
   "source": [
    "df.head()"
   ]
  },
  {
   "cell_type": "code",
   "execution_count": 10,
   "id": "e8c9a2eb-e0fc-4472-bfc2-50820148f4c7",
   "metadata": {},
   "outputs": [
    {
     "name": "stderr",
     "output_type": "stream",
     "text": [
      "C:\\Users\\Vishwas Aditya\\AppData\\Local\\Temp\\ipykernel_4456\\3585461274.py:2: FutureWarning: Downcasting behavior in `replace` is deprecated and will be removed in a future version. To retain the old behavior, explicitly call `result.infer_objects(copy=False)`. To opt-in to the future behavior, set `pd.set_option('future.no_silent_downcasting', True)`\n",
      "  df['age_group'] = df['age_group'].replace({'Adult': 0, 'Senior': 1}).astype('Int64')\n"
     ]
    }
   ],
   "source": [
    "df.dropna(subset=['age_group'], inplace=True)\n",
    "df['age_group'] = df['age_group'].replace({'Adult': 0, 'Senior': 1}).astype('Int64')"
   ]
  },
  {
   "cell_type": "code",
   "execution_count": 11,
   "id": "24e5c307-8d93-40a9-8882-d65f70961445",
   "metadata": {},
   "outputs": [
    {
     "data": {
      "text/plain": [
       "(1952, 9)"
      ]
     },
     "execution_count": 11,
     "metadata": {},
     "output_type": "execute_result"
    }
   ],
   "source": [
    "df.shape"
   ]
  },
  {
   "cell_type": "code",
   "execution_count": 12,
   "id": "c3f0fa00-3c36-4bc2-83a0-2e37e049a22a",
   "metadata": {},
   "outputs": [
    {
     "data": {
      "text/plain": [
       "SEQN         0\n",
       "RIAGENDR     0\n",
       "PAQ605       0\n",
       "BMXBMI       0\n",
       "LBXGLU       0\n",
       "DIQ010       0\n",
       "LBXGLT       0\n",
       "LBXIN        0\n",
       "age_group    0\n",
       "dtype: int64"
      ]
     },
     "execution_count": 12,
     "metadata": {},
     "output_type": "execute_result"
    }
   ],
   "source": [
    "df.isnull().sum()"
   ]
  },
  {
   "cell_type": "code",
   "execution_count": 13,
   "id": "bacd9730-7e44-4afa-a169-5501f436aee5",
   "metadata": {},
   "outputs": [],
   "source": [
    "df3=df.copy()"
   ]
  },
  {
   "cell_type": "code",
   "execution_count": 14,
   "id": "844d3961-fb9b-49b0-81a6-c3059f2491a4",
   "metadata": {},
   "outputs": [],
   "source": [
    "df3.drop(columns=['SEQN'], inplace=True)"
   ]
  },
  {
   "cell_type": "code",
   "execution_count": 15,
   "id": "5b39c848-52a9-4d53-888d-a9cc2266dfb2",
   "metadata": {},
   "outputs": [],
   "source": [
    "X = df3.drop(columns=['age_group'])"
   ]
  },
  {
   "cell_type": "code",
   "execution_count": 16,
   "id": "c8551c68-02b9-49c7-9ad4-794ffc938799",
   "metadata": {},
   "outputs": [],
   "source": [
    "y=df3['age_group']"
   ]
  },
  {
   "cell_type": "code",
   "execution_count": 17,
   "id": "69fec198-f5fe-494d-931c-49d1978bb574",
   "metadata": {},
   "outputs": [],
   "source": [
    "from sklearn.model_selection import train_test_split\n",
    "from sklearn.preprocessing import StandardScaler\n",
    "scaler = StandardScaler()\n",
    "X_scaled = scaler.fit_transform(X)\n",
    "\n",
    "X_train,X_test,y_train,y_test=train_test_split(X_scaled,y,test_size=0.2,random_state=42)"
   ]
  },
  {
   "cell_type": "code",
   "execution_count": 18,
   "id": "f76b7a23-be7e-4f40-8915-39e9b4586352",
   "metadata": {},
   "outputs": [],
   "source": [
    "from sklearn.tree import DecisionTreeClassifier\n",
    "from sklearn.model_selection import GridSearchCV\n",
    "from sklearn.linear_model import LogisticRegression\n",
    "from sklearn.svm import SVC\n",
    "from sklearn.ensemble import RandomForestClassifier\n",
    "from sklearn.ensemble import AdaBoostClassifier, GradientBoostingClassifier"
   ]
  },
  {
   "cell_type": "code",
   "execution_count": 19,
   "id": "db4d7d58-4685-4d61-85ed-366bf1ed7809",
   "metadata": {
    "scrolled": true
   },
   "outputs": [
    {
     "data": {
      "text/plain": [
       "'from sklearn.model_selection import cross_val_score\\n\\n# Replace \\'model\\' with your classifier (e.g., LogisticRegression(), RandomForestClassifier(), etc.)\\n# X: your features, y: your target variable\\n\\nscores = cross_val_score(model, X, y, cv=5, scoring=\\'accuracy\\')  #\\n\\nprint(\"Cross-validation scores:\", scores)\\nprint(\"Average CV score:\", scores.mean())\\nparam_grid1 = {\\n    \\'C\\': [0.1, 1, 10, 100],          \\n    \\'kernel\\': [\\'linear\\', \\'rbf\\'],       \\n    \\'gamma\\': [\\'scale\\', \\'auto\\', 0.1, 1],\\n    \\'shrinking\\':[\\'True\\',\\'False\\'],\\n    \\'max_iter\\':[2,4,6,8]\\n}\\n\\n# Initialize GridSearchCV\\ngrid_search1 = GridSearchCV(\\n    estimator=SVC(),                 \\n    param_grid=param_grid,             \\n    scoring=\\'accuracy\\',                \\n    cv=5,                              \\n    verbose=1,                         \\n    n_jobs=-1                       \\n)\\n\\n# Execute grid search\\ngrid_search1.fit(X_train, y_train)\\n\\n# Output results\\nprint(f\"Best parameters: {grid_search1.best_params_}\")\\nprint(f\"Best CV accuracy: {grid_search1.best_score_:.4f}\")\\nprint(f\"Test accuracy: {grid_search1.score(X_test, y_test):.4f}\")'"
      ]
     },
     "execution_count": 19,
     "metadata": {},
     "output_type": "execute_result"
    }
   ],
   "source": [
    "'''from sklearn.model_selection import cross_val_score\n",
    "\n",
    "# Replace 'model' with your classifier (e.g., LogisticRegression(), RandomForestClassifier(), etc.)\n",
    "# X: your features, y: your target variable\n",
    "\n",
    "scores = cross_val_score(model, X, y, cv=5, scoring='accuracy')  #\n",
    "\n",
    "print(\"Cross-validation scores:\", scores)\n",
    "print(\"Average CV score:\", scores.mean())\n",
    "param_grid1 = {\n",
    "    'C': [0.1, 1, 10, 100],          \n",
    "    'kernel': ['linear', 'rbf'],       \n",
    "    'gamma': ['scale', 'auto', 0.1, 1],\n",
    "    'shrinking':['True','False'],\n",
    "    'max_iter':[2,4,6,8]\n",
    "}\n",
    "\n",
    "# Initialize GridSearchCV\n",
    "grid_search1 = GridSearchCV(\n",
    "    estimator=SVC(),                 \n",
    "    param_grid=param_grid,             \n",
    "    scoring='accuracy',                \n",
    "    cv=5,                              \n",
    "    verbose=1,                         \n",
    "    n_jobs=-1                       \n",
    ")\n",
    "\n",
    "# Execute grid search\n",
    "grid_search1.fit(X_train, y_train)\n",
    "\n",
    "# Output results\n",
    "print(f\"Best parameters: {grid_search1.best_params_}\")\n",
    "print(f\"Best CV accuracy: {grid_search1.best_score_:.4f}\")\n",
    "print(f\"Test accuracy: {grid_search1.score(X_test, y_test):.4f}\")'''"
   ]
  },
  {
   "cell_type": "code",
   "execution_count": 20,
   "id": "1cc4a8a4-aa35-4cba-9835-9b72fc1108b3",
   "metadata": {},
   "outputs": [
    {
     "name": "stdout",
     "output_type": "stream",
     "text": [
      "Fitting 5 folds for each of 432 candidates, totalling 2160 fits\n",
      "Best Parameters: {'bootstrap': False, 'max_depth': None, 'max_features': 'sqrt', 'min_samples_leaf': 1, 'min_samples_split': 2, 'n_estimators': 200}\n",
      "Best CV Accuracy: 0.2935\n",
      "Test Accuracy: 0.2619\n"
     ]
    }
   ],
   "source": [
    "param_grid2= {\n",
    "    'n_estimators': [100, 200, 300],      \n",
    "    'max_depth': [None, 2,5,8],      \n",
    "    'min_samples_split': [2, 5, 10],      \n",
    "    'min_samples_leaf': [1, 2, 4],        \n",
    "    'max_features': ['sqrt', 'log2'],     \n",
    "    'bootstrap': [True, False],\n",
    "}\n",
    "\n",
    "# Initialize classifier\n",
    "rf = RandomForestClassifier(random_state=42)\n",
    "\n",
    "# Configure grid search\n",
    "grid_search2 = GridSearchCV(\n",
    "    estimator=rf,\n",
    "    param_grid=param_grid2,\n",
    "    scoring='f1',  \n",
    "    cv=5,                 \n",
    "    verbose=1,\n",
    "    n_jobs=-1          \n",
    ")\n",
    "\n",
    "# Execute grid search\n",
    "grid_search2.fit(X_train, y_train)\n",
    "\n",
    "# Results analysis\n",
    "print(f\"Best Parameters: {grid_search2.best_params_}\")\n",
    "print(f\"Best CV Accuracy: {grid_search2.best_score_:.4f}\")\n",
    "print(f\"Test Accuracy: {grid_search2.score(X_test, y_test):.4f}\")"
   ]
  },
  {
   "cell_type": "code",
   "execution_count": 21,
   "id": "2478f1ff-1348-47b4-bf30-3062a0bc33d6",
   "metadata": {},
   "outputs": [
    {
     "data": {
      "text/plain": [
       "'param_grid3 = {\\n    \\'criterion\\': [\\'gini\\', \\'entropy\\'],       \\n    \\'max_depth\\': [None, 3, 5, 10, 20],\\n    \\'splitter\\':[\\'best\\',\\'random\\'],\\n    \\'min_samples_split\\': [2, 5, 10],        \\n    \\'min_samples_leaf\\': [1, 2, 4,6,8,10,12], \\n    \\'max_leaf_nodes\\':[2,4,8,10,14],\\n    \\'max_features\\': [\\'sqrt\\', \\'log2\\', None,0.2,0.5]   \\n}\\n\\n# Initialize GridSearchCV\\ngrid_search3 = GridSearchCV(\\n    estimator=DecisionTreeClassifier(random_state=42),\\n    param_grid=param_grid3,\\n    scoring=\\'accuracy\\',\\n    cv=5,              # 5-fold cross-validation\\n    verbose=1,\\n    n_jobs=-1          # Use all CPU cores\\n)\\n\\n# Execute grid search\\ngrid_search3.fit(X_train, y_train)\\n\\n# Output results\\nprint(f\"Best parameters: {grid_search3.best_params_}\")\\nprint(f\"Best CV accuracy: {grid_search3.best_score_:.4f}\")\\nprint(f\"Test accuracy: {grid_search3.score(X_test, y_test):.4f}\")'"
      ]
     },
     "execution_count": 21,
     "metadata": {},
     "output_type": "execute_result"
    }
   ],
   "source": [
    "'''param_grid3 = {\n",
    "    'criterion': ['gini', 'entropy'],       \n",
    "    'max_depth': [None, 3, 5, 10, 20],\n",
    "    'splitter':['best','random'],\n",
    "    'min_samples_split': [2, 5, 10],        \n",
    "    'min_samples_leaf': [1, 2, 4,6,8,10,12], \n",
    "    'max_leaf_nodes':[2,4,8,10,14],\n",
    "    'max_features': ['sqrt', 'log2', None,0.2,0.5]   \n",
    "}\n",
    "\n",
    "# Initialize GridSearchCV\n",
    "grid_search3 = GridSearchCV(\n",
    "    estimator=DecisionTreeClassifier(random_state=42),\n",
    "    param_grid=param_grid3,\n",
    "    scoring='accuracy',\n",
    "    cv=5,             \n",
    "    verbose=1,\n",
    "    n_jobs=-1          \n",
    ")\n",
    "\n",
    "# Execute grid search\n",
    "grid_search3.fit(X_train, y_train)\n",
    "\n",
    "# Output results\n",
    "print(f\"Best parameters: {grid_search3.best_params_}\")\n",
    "print(f\"Best CV accuracy: {grid_search3.best_score_:.4f}\")\n",
    "print(f\"Test accuracy: {grid_search3.score(X_test, y_test):.4f}\")'''"
   ]
  },
  {
   "cell_type": "code",
   "execution_count": 22,
   "id": "71b0f7d3-2418-4ebd-965d-d165c75cb96d",
   "metadata": {},
   "outputs": [
    {
     "data": {
      "text/plain": [
       "'import warnings\\nwarnings.fiterwarnings(\\'ignore\\')\\nada_boost = AdaBoostClassifier(\\n    estimator=DecisionTreeClassifier(),\\n    random_state=42\\n)\\n\\nparam_grid4= {\\n    \\'n_estimators\\': [50, 100, 200],\\n    \\'learning_rate\\': [0.01, 0.1, 1.0],\\n    \\'estimator__max_depth\\': [1, 3, 5],\\n    \\'estimator__criterion\\': [\\'gini\\', \\'entropy\\'],\\n    \\'estimator__min_samples_split\\': [2, 5, 10],\\n    \\'estimator__min_samples_leaf\\': [1, 2, 4]\\n}\\n\\ngrid_search = GridSearchCV(\\n    estimator=ada_boost,\\n    param_grid=param_grid4,\\n    scoring=\\'accuracy\\',\\n    cv=5,\\n    verbose=1,\\n    n_jobs=1\\n)\\n\\ngrid_search.fit(X_train, y_train)\\nprint(f\"Best Parameters: {grid_search.best_params_}\")\\nprint(f\"Best CV Accuracy: {grid_search.best_score_:.4f}\")\\nprint(f\"Test Accuracy: {grid_search.score(X_test, y_test):.4f}\")'"
      ]
     },
     "execution_count": 22,
     "metadata": {},
     "output_type": "execute_result"
    }
   ],
   "source": [
    "'''import warnings\n",
    "warnings.fiterwarnings('ignore')\n",
    "ada_boost = AdaBoostClassifier(\n",
    "    estimator=DecisionTreeClassifier(),\n",
    "    random_state=42\n",
    ")\n",
    "\n",
    "param_grid4= {\n",
    "    'n_estimators': [50, 100, 200],\n",
    "    'learning_rate': [0.01, 0.1, 1.0],\n",
    "    'estimator__max_depth': [1, 3, 5],\n",
    "    'estimator__criterion': ['gini', 'entropy'],\n",
    "    'estimator__min_samples_split': [2, 5, 10],\n",
    "    'estimator__min_samples_leaf': [1, 2, 4]\n",
    "}\n",
    "\n",
    "grid_search = GridSearchCV(\n",
    "    estimator=ada_boost,\n",
    "    param_grid=param_grid4,\n",
    "    scoring='accuracy',\n",
    "    cv=5,\n",
    "    verbose=1,\n",
    "    n_jobs=1\n",
    ")\n",
    "\n",
    "grid_search.fit(X_train, y_train)\n",
    "print(f\"Best Parameters: {grid_search.best_params_}\")\n",
    "print(f\"Best CV Accuracy: {grid_search.best_score_:.4f}\")\n",
    "print(f\"Test Accuracy: {grid_search.score(X_test, y_test):.4f}\")'''\n",
    "#taking too much time"
   ]
  },
  {
   "cell_type": "code",
   "execution_count": 36,
   "id": "db6fa5b4-d1ce-4f97-99e4-1da6421b35ec",
   "metadata": {},
   "outputs": [],
   "source": [
    "df_test1=pd.read_csv('Test_data.csv')"
   ]
  },
  {
   "cell_type": "code",
   "execution_count": 37,
   "id": "79fe0cd2-67c5-4738-a5f3-44ecbff5b3c6",
   "metadata": {},
   "outputs": [
    {
     "data": {
      "text/plain": [
       "SEQN        2\n",
       "RIAGENDR    2\n",
       "PAQ605      1\n",
       "BMXBMI      1\n",
       "LBXGLU      1\n",
       "DIQ010      1\n",
       "LBXGLT      2\n",
       "LBXIN       1\n",
       "dtype: int64"
      ]
     },
     "execution_count": 37,
     "metadata": {},
     "output_type": "execute_result"
    }
   ],
   "source": [
    "df_test1.isnull().sum()"
   ]
  },
  {
   "cell_type": "code",
   "execution_count": 38,
   "id": "8f75256d-44b2-430b-b650-27f32362dbd6",
   "metadata": {},
   "outputs": [],
   "source": [
    "df_test1.drop(columns=['SEQN'], inplace=True)"
   ]
  },
  {
   "cell_type": "code",
   "execution_count": 39,
   "id": "44d62b4c-3616-4e7f-98fb-8b95696ae7d6",
   "metadata": {},
   "outputs": [
    {
     "data": {
      "text/plain": [
       "RIAGENDR    2\n",
       "PAQ605      1\n",
       "BMXBMI      1\n",
       "LBXGLU      1\n",
       "DIQ010      1\n",
       "LBXGLT      2\n",
       "LBXIN       1\n",
       "dtype: int64"
      ]
     },
     "execution_count": 39,
     "metadata": {},
     "output_type": "execute_result"
    }
   ],
   "source": [
    "df_test1.isnull().sum()"
   ]
  },
  {
   "cell_type": "code",
   "execution_count": 40,
   "id": "15f05007-f260-411a-aff1-c02dace149a4",
   "metadata": {},
   "outputs": [],
   "source": [
    "df_test1['RIAGENDR'] = df_test1['RIAGENDR'].fillna(df['RIAGENDR'].median())\n",
    "df_test1.fillna(df_test1.mean(numeric_only=True), inplace=True)"
   ]
  },
  {
   "cell_type": "code",
   "execution_count": 41,
   "id": "4488eb35-82a7-4690-845a-7a81ccf67723",
   "metadata": {},
   "outputs": [
    {
     "data": {
      "text/plain": [
       "RIAGENDR    0\n",
       "PAQ605      0\n",
       "BMXBMI      0\n",
       "LBXGLU      0\n",
       "DIQ010      0\n",
       "LBXGLT      0\n",
       "LBXIN       0\n",
       "dtype: int64"
      ]
     },
     "execution_count": 41,
     "metadata": {},
     "output_type": "execute_result"
    }
   ],
   "source": [
    "df_test1.isnull().sum()"
   ]
  },
  {
   "cell_type": "code",
   "execution_count": 42,
   "id": "4add894c-8f6c-4d3a-aca4-44e8c3b90867",
   "metadata": {},
   "outputs": [],
   "source": [
    "from sklearn.preprocessing import StandardScaler\n",
    "scaler = StandardScaler()\n",
    "X_test1 = scaler.fit_transform(df_test1)\n",
    "#y4_pred=grid_search3.predict(X_test1)\n"
   ]
  },
  {
   "cell_type": "code",
   "execution_count": 47,
   "id": "7aa7f001-41d5-4d54-b63f-504354dbd7c7",
   "metadata": {},
   "outputs": [
    {
     "data": {
      "text/html": [
       "<div>\n",
       "<style scoped>\n",
       "    .dataframe tbody tr th:only-of-type {\n",
       "        vertical-align: middle;\n",
       "    }\n",
       "\n",
       "    .dataframe tbody tr th {\n",
       "        vertical-align: top;\n",
       "    }\n",
       "\n",
       "    .dataframe thead th {\n",
       "        text-align: right;\n",
       "    }\n",
       "</style>\n",
       "<table border=\"1\" class=\"dataframe\">\n",
       "  <thead>\n",
       "    <tr style=\"text-align: right;\">\n",
       "      <th></th>\n",
       "      <th>age_group</th>\n",
       "    </tr>\n",
       "  </thead>\n",
       "  <tbody>\n",
       "    <tr>\n",
       "      <th>0</th>\n",
       "      <td>0</td>\n",
       "    </tr>\n",
       "    <tr>\n",
       "      <th>1</th>\n",
       "      <td>0</td>\n",
       "    </tr>\n",
       "    <tr>\n",
       "      <th>2</th>\n",
       "      <td>0</td>\n",
       "    </tr>\n",
       "    <tr>\n",
       "      <th>3</th>\n",
       "      <td>0</td>\n",
       "    </tr>\n",
       "    <tr>\n",
       "      <th>4</th>\n",
       "      <td>0</td>\n",
       "    </tr>\n",
       "    <tr>\n",
       "      <th>...</th>\n",
       "      <td>...</td>\n",
       "    </tr>\n",
       "    <tr>\n",
       "      <th>307</th>\n",
       "      <td>0</td>\n",
       "    </tr>\n",
       "    <tr>\n",
       "      <th>308</th>\n",
       "      <td>0</td>\n",
       "    </tr>\n",
       "    <tr>\n",
       "      <th>309</th>\n",
       "      <td>0</td>\n",
       "    </tr>\n",
       "    <tr>\n",
       "      <th>310</th>\n",
       "      <td>0</td>\n",
       "    </tr>\n",
       "    <tr>\n",
       "      <th>311</th>\n",
       "      <td>0</td>\n",
       "    </tr>\n",
       "  </tbody>\n",
       "</table>\n",
       "<p>312 rows × 1 columns</p>\n",
       "</div>"
      ],
      "text/plain": [
       "     age_group\n",
       "0            0\n",
       "1            0\n",
       "2            0\n",
       "3            0\n",
       "4            0\n",
       "..         ...\n",
       "307          0\n",
       "308          0\n",
       "309          0\n",
       "310          0\n",
       "311          0\n",
       "\n",
       "[312 rows x 1 columns]"
      ]
     },
     "execution_count": 47,
     "metadata": {},
     "output_type": "execute_result"
    }
   ],
   "source": [
    "y_pred_grid2=grid_search2.predict(X_test1)\n",
    "result = pd.DataFrame({\n",
    "    'age_group': y_pred_grid2.astype(int)\n",
    "})\n",
    "result"
   ]
  },
  {
   "cell_type": "code",
   "execution_count": 48,
   "id": "77ff154e-e6ca-42a0-b634-3777adc64e62",
   "metadata": {},
   "outputs": [],
   "source": [
    "result.to_csv('result_grid_search2.2.csv', index=False)"
   ]
  },
  {
   "cell_type": "code",
   "execution_count": 50,
   "id": "fb41376f-3386-4e4b-bd16-2eb2500bdeed",
   "metadata": {},
   "outputs": [],
   "source": []
  },
  {
   "cell_type": "code",
   "execution_count": null,
   "id": "340c640a-b0d8-40da-93cc-27ca799e43bc",
   "metadata": {},
   "outputs": [],
   "source": []
  },
  {
   "cell_type": "code",
   "execution_count": null,
   "id": "e7e63823-3ee3-4477-8c3b-61c3b6a81cc4",
   "metadata": {},
   "outputs": [],
   "source": []
  },
  {
   "cell_type": "code",
   "execution_count": null,
   "id": "09d077cd-a0d7-4e23-85d4-ab1a85361183",
   "metadata": {},
   "outputs": [],
   "source": []
  },
  {
   "cell_type": "code",
   "execution_count": null,
   "id": "0d775b1f-0d88-48a1-bf89-951f80d62e70",
   "metadata": {},
   "outputs": [],
   "source": []
  },
  {
   "cell_type": "code",
   "execution_count": null,
   "id": "e11074dd-91e1-499f-b505-2c6cce78dd4e",
   "metadata": {},
   "outputs": [],
   "source": []
  },
  {
   "cell_type": "code",
   "execution_count": null,
   "id": "7e4a5ba8-1509-415a-8d6b-e30af851efd6",
   "metadata": {},
   "outputs": [],
   "source": []
  },
  {
   "cell_type": "code",
   "execution_count": null,
   "id": "f8bb33d9-74d2-4311-9d31-0e8325eef44f",
   "metadata": {},
   "outputs": [],
   "source": []
  },
  {
   "cell_type": "code",
   "execution_count": null,
   "id": "35c1f237-ccce-40ca-985f-0b1db0a0e665",
   "metadata": {},
   "outputs": [],
   "source": []
  },
  {
   "cell_type": "code",
   "execution_count": null,
   "id": "bcebad84-7d26-4d48-87aa-ef90e4e8931a",
   "metadata": {},
   "outputs": [],
   "source": []
  },
  {
   "cell_type": "code",
   "execution_count": null,
   "id": "54f98610-0fcb-41c4-8d8c-1a639e225015",
   "metadata": {},
   "outputs": [],
   "source": [
    "\n"
   ]
  },
  {
   "cell_type": "code",
   "execution_count": null,
   "id": "ea4f3486-85df-4c27-9f4b-88e47aa118e6",
   "metadata": {},
   "outputs": [],
   "source": []
  },
  {
   "cell_type": "code",
   "execution_count": null,
   "id": "4ab72216-158f-44f6-8d83-f25b5d2ec39b",
   "metadata": {},
   "outputs": [],
   "source": []
  },
  {
   "cell_type": "code",
   "execution_count": 646,
   "id": "05e56e9a-ca42-43b5-ae29-01a407e12f02",
   "metadata": {},
   "outputs": [],
   "source": []
  },
  {
   "cell_type": "code",
   "execution_count": null,
   "id": "ed777a4a-ed06-4757-a473-2a5da2847ffe",
   "metadata": {},
   "outputs": [],
   "source": []
  },
  {
   "cell_type": "code",
   "execution_count": null,
   "id": "3ba80424-5ece-4ebd-aca9-9f47b01c764a",
   "metadata": {},
   "outputs": [],
   "source": []
  },
  {
   "cell_type": "code",
   "execution_count": null,
   "id": "ad7714c6-ba0f-4d5f-8d92-3ee7309347e5",
   "metadata": {},
   "outputs": [],
   "source": []
  },
  {
   "cell_type": "code",
   "execution_count": null,
   "id": "8a22c73a-cae2-46b3-a650-f7f74bb591d0",
   "metadata": {},
   "outputs": [],
   "source": []
  },
  {
   "cell_type": "code",
   "execution_count": null,
   "id": "c0eed53b-3416-41da-89b4-590c380adeae",
   "metadata": {},
   "outputs": [],
   "source": []
  },
  {
   "cell_type": "code",
   "execution_count": null,
   "id": "a7dcb3c0-b881-4d6f-a12f-84720a9cf46d",
   "metadata": {},
   "outputs": [],
   "source": []
  },
  {
   "cell_type": "code",
   "execution_count": null,
   "id": "12c91f38-b8be-47ed-a0ef-b1448a9de305",
   "metadata": {},
   "outputs": [],
   "source": []
  },
  {
   "cell_type": "code",
   "execution_count": null,
   "id": "abcd3c24-aea7-42bf-9b6c-7dcb483b2b31",
   "metadata": {},
   "outputs": [],
   "source": []
  },
  {
   "cell_type": "code",
   "execution_count": null,
   "id": "a7a8e15e-4977-43e8-87fd-7ffb3e02243e",
   "metadata": {},
   "outputs": [],
   "source": []
  },
  {
   "cell_type": "code",
   "execution_count": null,
   "id": "f4238e10-aba1-4374-b502-b8052e977888",
   "metadata": {},
   "outputs": [],
   "source": []
  },
  {
   "cell_type": "code",
   "execution_count": null,
   "id": "5d154e2b-00dc-436a-8157-2b04af1c6b2c",
   "metadata": {},
   "outputs": [],
   "source": []
  },
  {
   "cell_type": "code",
   "execution_count": null,
   "id": "2da16997-7cce-4ed1-9e8b-8671f6a7da4d",
   "metadata": {},
   "outputs": [],
   "source": []
  }
 ],
 "metadata": {
  "kernelspec": {
   "display_name": "Python 3 (ipykernel)",
   "language": "python",
   "name": "python3"
  },
  "language_info": {
   "codemirror_mode": {
    "name": "ipython",
    "version": 3
   },
   "file_extension": ".py",
   "mimetype": "text/x-python",
   "name": "python",
   "nbconvert_exporter": "python",
   "pygments_lexer": "ipython3",
   "version": "3.12.7"
  }
 },
 "nbformat": 4,
 "nbformat_minor": 5
}
